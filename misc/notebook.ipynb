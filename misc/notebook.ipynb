{
 "cells": [
  {
   "cell_type": "code",
   "execution_count": 1,
   "metadata": {},
   "outputs": [],
   "source": [
    "import json\n",
    "import re\n",
    "\n",
    "import polars as pl\n",
    "import seaborn as sns\n",
    "import matplotlib.pyplot as plt"
   ]
  },
  {
   "cell_type": "code",
   "execution_count": 2,
   "metadata": {},
   "outputs": [
    {
     "data": {
      "text/plain": [
       "[{'name': 'BM_Minimize<tb::NaiveMinimize>/1000000',\n",
       "  'family_index': 0,\n",
       "  'per_family_instance_index': 0,\n",
       "  'run_name': 'BM_Minimize<tb::NaiveMinimize>/1000000',\n",
       "  'run_type': 'iteration',\n",
       "  'repetitions': 1,\n",
       "  'repetition_index': 0,\n",
       "  'threads': 1,\n",
       "  'iterations': 3,\n",
       "  'real_time': 241661095.06040812,\n",
       "  'cpu_time': 241653325.0,\n",
       "  'time_unit': 'ns'},\n",
       " {'name': 'BM_Minimize<tb::DequeMinimize>/1000000',\n",
       "  'family_index': 1,\n",
       "  'per_family_instance_index': 0,\n",
       "  'run_name': 'BM_Minimize<tb::DequeMinimize>/1000000',\n",
       "  'run_type': 'iteration',\n",
       "  'repetitions': 1,\n",
       "  'repetition_index': 0,\n",
       "  'threads': 1,\n",
       "  'iterations': 29,\n",
       "  'real_time': 24010300.780807074,\n",
       "  'cpu_time': 24009721.34482761,\n",
       "  'time_unit': 'ns'},\n",
       " {'name': 'BM_Minimize<tb::ArgMinMinimize>/1000000',\n",
       "  'family_index': 2,\n",
       "  'per_family_instance_index': 0,\n",
       "  'run_name': 'BM_Minimize<tb::ArgMinMinimize>/1000000',\n",
       "  'run_type': 'iteration',\n",
       "  'repetitions': 1,\n",
       "  'repetition_index': 0,\n",
       "  'threads': 1,\n",
       "  'iterations': 31,\n",
       "  'real_time': 22695096.10449595,\n",
       "  'cpu_time': 22694786.93548385,\n",
       "  'time_unit': 'ns'},\n",
       " {'name': 'BM_Minimize<tb::ArgMinUnrolledMinimize>/1000000',\n",
       "  'family_index': 3,\n",
       "  'per_family_instance_index': 0,\n",
       "  'run_name': 'BM_Minimize<tb::ArgMinUnrolledMinimize>/1000000',\n",
       "  'run_type': 'iteration',\n",
       "  'repetitions': 1,\n",
       "  'repetition_index': 0,\n",
       "  'threads': 1,\n",
       "  'iterations': 61,\n",
       "  'real_time': 11463929.975374801,\n",
       "  'cpu_time': 11463745.967213096,\n",
       "  'time_unit': 'ns'},\n",
       " {'name': 'BM_Minimize<tb::NtHashArgMinUnrolledMinimize>/1000000',\n",
       "  'family_index': 4,\n",
       "  'per_family_instance_index': 0,\n",
       "  'run_name': 'BM_Minimize<tb::NtHashArgMinUnrolledMinimize>/1000000',\n",
       "  'run_type': 'iteration',\n",
       "  'repetitions': 1,\n",
       "  'repetition_index': 0,\n",
       "  'threads': 1,\n",
       "  'iterations': 65,\n",
       "  'real_time': 10817348.921241669,\n",
       "  'cpu_time': 10817343.692307727,\n",
       "  'time_unit': 'ns'},\n",
       " {'name': 'BM_Minimize<tb::ArgMinRecoveryMinimize>/1000000',\n",
       "  'family_index': 5,\n",
       "  'per_family_instance_index': 0,\n",
       "  'run_name': 'BM_Minimize<tb::ArgMinRecoveryMinimize>/1000000',\n",
       "  'run_type': 'iteration',\n",
       "  'repetitions': 1,\n",
       "  'repetition_index': 0,\n",
       "  'threads': 1,\n",
       "  'iterations': 66,\n",
       "  'real_time': 10493976.43796648,\n",
       "  'cpu_time': 10494203.909090962,\n",
       "  'time_unit': 'ns'},\n",
       " {'name': 'BM_Minimize<tb::ArgMinRecoveryUnrolledMinimize>/1000000',\n",
       "  'family_index': 6,\n",
       "  'per_family_instance_index': 0,\n",
       "  'run_name': 'BM_Minimize<tb::ArgMinRecoveryUnrolledMinimize>/1000000',\n",
       "  'run_type': 'iteration',\n",
       "  'repetitions': 1,\n",
       "  'repetition_index': 0,\n",
       "  'threads': 1,\n",
       "  'iterations': 82,\n",
       "  'real_time': 8558797.587572439,\n",
       "  'cpu_time': 8558737.439024355,\n",
       "  'time_unit': 'ns'},\n",
       " {'name': 'BM_Minimize<tb::NtHashRecoveryUnrolledMinimize>/1000000',\n",
       "  'family_index': 7,\n",
       "  'per_family_instance_index': 0,\n",
       "  'run_name': 'BM_Minimize<tb::NtHashRecoveryUnrolledMinimize>/1000000',\n",
       "  'run_type': 'iteration',\n",
       "  'repetitions': 1,\n",
       "  'repetition_index': 0,\n",
       "  'threads': 1,\n",
       "  'iterations': 88,\n",
       "  'real_time': 7908779.842017049,\n",
       "  'cpu_time': 7908790.045454548,\n",
       "  'time_unit': 'ns'},\n",
       " {'name': 'BM_Minimize<tb::SplitWindowMinimize>/1000000',\n",
       "  'family_index': 8,\n",
       "  'per_family_instance_index': 0,\n",
       "  'run_name': 'BM_Minimize<tb::SplitWindowMinimize>/1000000',\n",
       "  'run_type': 'iteration',\n",
       "  'repetitions': 1,\n",
       "  'repetition_index': 0,\n",
       "  'threads': 1,\n",
       "  'iterations': 42,\n",
       "  'real_time': 16607302.551468214,\n",
       "  'cpu_time': 16604681.952381063,\n",
       "  'time_unit': 'ns'}]"
      ]
     },
     "execution_count": 2,
     "metadata": {},
     "output_type": "execute_result"
    }
   ],
   "source": [
    "with open(\"bench.json\") as f:\n",
    "    data = json.load(f)[\"benchmarks\"]\n",
    "data"
   ]
  },
  {
   "cell_type": "code",
   "execution_count": 3,
   "metadata": {},
   "outputs": [
    {
     "data": {
      "text/html": [
       "<div><style>\n",
       ".dataframe > thead > tr,\n",
       ".dataframe > tbody > tr {\n",
       "  text-align: right;\n",
       "  white-space: pre-wrap;\n",
       "}\n",
       "</style>\n",
       "<small>shape: (9, 14)</small><table border=\"1\" class=\"dataframe\"><thead><tr><th>name</th><th>family_index</th><th>per_family_instance_index</th><th>run_name</th><th>run_type</th><th>repetitions</th><th>repetition_index</th><th>threads</th><th>iterations</th><th>real_time</th><th>cpu_time</th><th>time_unit</th><th>n_bases</th><th>function</th></tr><tr><td>str</td><td>i64</td><td>i64</td><td>str</td><td>str</td><td>i64</td><td>i64</td><td>i64</td><td>i64</td><td>f64</td><td>f64</td><td>str</td><td>i64</td><td>str</td></tr></thead><tbody><tr><td>&quot;BM_Minimize&lt;tb::NaiveMinimize&gt;…</td><td>0</td><td>0</td><td>&quot;BM_Minimize&lt;tb::NaiveMinimize&gt;…</td><td>&quot;iteration&quot;</td><td>1</td><td>0</td><td>1</td><td>3</td><td>2.4166e8</td><td>2.41653325e8</td><td>&quot;ns&quot;</td><td>1000000</td><td>&quot;tb::NaiveMinimize&quot;</td></tr><tr><td>&quot;BM_Minimize&lt;tb::DequeMinimize&gt;…</td><td>1</td><td>0</td><td>&quot;BM_Minimize&lt;tb::DequeMinimize&gt;…</td><td>&quot;iteration&quot;</td><td>1</td><td>0</td><td>1</td><td>29</td><td>2.4010e7</td><td>2.4010e7</td><td>&quot;ns&quot;</td><td>1000000</td><td>&quot;tb::DequeMinimize&quot;</td></tr><tr><td>&quot;BM_Minimize&lt;tb::ArgMinMinimize…</td><td>2</td><td>0</td><td>&quot;BM_Minimize&lt;tb::ArgMinMinimize…</td><td>&quot;iteration&quot;</td><td>1</td><td>0</td><td>1</td><td>31</td><td>2.2695e7</td><td>2.2695e7</td><td>&quot;ns&quot;</td><td>1000000</td><td>&quot;tb::ArgMinMinimize&quot;</td></tr><tr><td>&quot;BM_Minimize&lt;tb::ArgMinUnrolled…</td><td>3</td><td>0</td><td>&quot;BM_Minimize&lt;tb::ArgMinUnrolled…</td><td>&quot;iteration&quot;</td><td>1</td><td>0</td><td>1</td><td>61</td><td>1.1464e7</td><td>1.1464e7</td><td>&quot;ns&quot;</td><td>1000000</td><td>&quot;tb::ArgMinUnrolledMinimize&quot;</td></tr><tr><td>&quot;BM_Minimize&lt;tb::NtHashArgMinUn…</td><td>4</td><td>0</td><td>&quot;BM_Minimize&lt;tb::NtHashArgMinUn…</td><td>&quot;iteration&quot;</td><td>1</td><td>0</td><td>1</td><td>65</td><td>1.0817e7</td><td>1.0817e7</td><td>&quot;ns&quot;</td><td>1000000</td><td>&quot;tb::NtHashArgMinUnrolledMinimi…</td></tr><tr><td>&quot;BM_Minimize&lt;tb::ArgMinRecovery…</td><td>5</td><td>0</td><td>&quot;BM_Minimize&lt;tb::ArgMinRecovery…</td><td>&quot;iteration&quot;</td><td>1</td><td>0</td><td>1</td><td>66</td><td>1.0494e7</td><td>1.0494e7</td><td>&quot;ns&quot;</td><td>1000000</td><td>&quot;tb::ArgMinRecoveryMinimize&quot;</td></tr><tr><td>&quot;BM_Minimize&lt;tb::ArgMinRecovery…</td><td>6</td><td>0</td><td>&quot;BM_Minimize&lt;tb::ArgMinRecovery…</td><td>&quot;iteration&quot;</td><td>1</td><td>0</td><td>1</td><td>82</td><td>8.5588e6</td><td>8.5587e6</td><td>&quot;ns&quot;</td><td>1000000</td><td>&quot;tb::ArgMinRecoveryUnrolledMini…</td></tr><tr><td>&quot;BM_Minimize&lt;tb::NtHashRecovery…</td><td>7</td><td>0</td><td>&quot;BM_Minimize&lt;tb::NtHashRecovery…</td><td>&quot;iteration&quot;</td><td>1</td><td>0</td><td>1</td><td>88</td><td>7.9088e6</td><td>7.9088e6</td><td>&quot;ns&quot;</td><td>1000000</td><td>&quot;tb::NtHashRecoveryUnrolledMini…</td></tr><tr><td>&quot;BM_Minimize&lt;tb::SplitWindowMin…</td><td>8</td><td>0</td><td>&quot;BM_Minimize&lt;tb::SplitWindowMin…</td><td>&quot;iteration&quot;</td><td>1</td><td>0</td><td>1</td><td>42</td><td>1.6607e7</td><td>1.6605e7</td><td>&quot;ns&quot;</td><td>1000000</td><td>&quot;tb::SplitWindowMinimize&quot;</td></tr></tbody></table></div>"
      ],
      "text/plain": [
       "shape: (9, 14)\n",
       "┌────────────┬───────────┬───────────┬───────────┬───┬───────────┬───────────┬─────────┬───────────┐\n",
       "│ name       ┆ family_in ┆ per_famil ┆ run_name  ┆ … ┆ cpu_time  ┆ time_unit ┆ n_bases ┆ function  │\n",
       "│ ---        ┆ dex       ┆ y_instanc ┆ ---       ┆   ┆ ---       ┆ ---       ┆ ---     ┆ ---       │\n",
       "│ str        ┆ ---       ┆ e_index   ┆ str       ┆   ┆ f64       ┆ str       ┆ i64     ┆ str       │\n",
       "│            ┆ i64       ┆ ---       ┆           ┆   ┆           ┆           ┆         ┆           │\n",
       "│            ┆           ┆ i64       ┆           ┆   ┆           ┆           ┆         ┆           │\n",
       "╞════════════╪═══════════╪═══════════╪═══════════╪═══╪═══════════╪═══════════╪═════════╪═══════════╡\n",
       "│ BM_Minimiz ┆ 0         ┆ 0         ┆ BM_Minimi ┆ … ┆ 2.4165332 ┆ ns        ┆ 1000000 ┆ tb::Naive │\n",
       "│ e<tb::Naiv ┆           ┆           ┆ ze<tb::Na ┆   ┆ 5e8       ┆           ┆         ┆ Minimize  │\n",
       "│ eMinimize> ┆           ┆           ┆ iveMinimi ┆   ┆           ┆           ┆         ┆           │\n",
       "│ …          ┆           ┆           ┆ ze>…      ┆   ┆           ┆           ┆         ┆           │\n",
       "│ BM_Minimiz ┆ 1         ┆ 0         ┆ BM_Minimi ┆ … ┆ 2.4010e7  ┆ ns        ┆ 1000000 ┆ tb::Deque │\n",
       "│ e<tb::Dequ ┆           ┆           ┆ ze<tb::De ┆   ┆           ┆           ┆         ┆ Minimize  │\n",
       "│ eMinimize> ┆           ┆           ┆ queMinimi ┆   ┆           ┆           ┆         ┆           │\n",
       "│ …          ┆           ┆           ┆ ze>…      ┆   ┆           ┆           ┆         ┆           │\n",
       "│ BM_Minimiz ┆ 2         ┆ 0         ┆ BM_Minimi ┆ … ┆ 2.2695e7  ┆ ns        ┆ 1000000 ┆ tb::ArgMi │\n",
       "│ e<tb::ArgM ┆           ┆           ┆ ze<tb::Ar ┆   ┆           ┆           ┆         ┆ nMinimize │\n",
       "│ inMinimize ┆           ┆           ┆ gMinMinim ┆   ┆           ┆           ┆         ┆           │\n",
       "│ …          ┆           ┆           ┆ ize…      ┆   ┆           ┆           ┆         ┆           │\n",
       "│ BM_Minimiz ┆ 3         ┆ 0         ┆ BM_Minimi ┆ … ┆ 1.1464e7  ┆ ns        ┆ 1000000 ┆ tb::ArgMi │\n",
       "│ e<tb::ArgM ┆           ┆           ┆ ze<tb::Ar ┆   ┆           ┆           ┆         ┆ nUnrolled │\n",
       "│ inUnrolled ┆           ┆           ┆ gMinUnrol ┆   ┆           ┆           ┆         ┆ Minimize  │\n",
       "│ …          ┆           ┆           ┆ led…      ┆   ┆           ┆           ┆         ┆           │\n",
       "│ BM_Minimiz ┆ 4         ┆ 0         ┆ BM_Minimi ┆ … ┆ 1.0817e7  ┆ ns        ┆ 1000000 ┆ tb::NtHas │\n",
       "│ e<tb::NtHa ┆           ┆           ┆ ze<tb::Nt ┆   ┆           ┆           ┆         ┆ hArgMinUn │\n",
       "│ shArgMinUn ┆           ┆           ┆ HashArgMi ┆   ┆           ┆           ┆         ┆ rolledMin │\n",
       "│ …          ┆           ┆           ┆ nUn…      ┆   ┆           ┆           ┆         ┆ imi…      │\n",
       "│ BM_Minimiz ┆ 5         ┆ 0         ┆ BM_Minimi ┆ … ┆ 1.0494e7  ┆ ns        ┆ 1000000 ┆ tb::ArgMi │\n",
       "│ e<tb::ArgM ┆           ┆           ┆ ze<tb::Ar ┆   ┆           ┆           ┆         ┆ nRecovery │\n",
       "│ inRecovery ┆           ┆           ┆ gMinRecov ┆   ┆           ┆           ┆         ┆ Minimize  │\n",
       "│ …          ┆           ┆           ┆ ery…      ┆   ┆           ┆           ┆         ┆           │\n",
       "│ BM_Minimiz ┆ 6         ┆ 0         ┆ BM_Minimi ┆ … ┆ 8.5587e6  ┆ ns        ┆ 1000000 ┆ tb::ArgMi │\n",
       "│ e<tb::ArgM ┆           ┆           ┆ ze<tb::Ar ┆   ┆           ┆           ┆         ┆ nRecovery │\n",
       "│ inRecovery ┆           ┆           ┆ gMinRecov ┆   ┆           ┆           ┆         ┆ UnrolledM │\n",
       "│ …          ┆           ┆           ┆ ery…      ┆   ┆           ┆           ┆         ┆ ini…      │\n",
       "│ BM_Minimiz ┆ 7         ┆ 0         ┆ BM_Minimi ┆ … ┆ 7.9088e6  ┆ ns        ┆ 1000000 ┆ tb::NtHas │\n",
       "│ e<tb::NtHa ┆           ┆           ┆ ze<tb::Nt ┆   ┆           ┆           ┆         ┆ hRecovery │\n",
       "│ shRecovery ┆           ┆           ┆ HashRecov ┆   ┆           ┆           ┆         ┆ UnrolledM │\n",
       "│ …          ┆           ┆           ┆ ery…      ┆   ┆           ┆           ┆         ┆ ini…      │\n",
       "│ BM_Minimiz ┆ 8         ┆ 0         ┆ BM_Minimi ┆ … ┆ 1.6605e7  ┆ ns        ┆ 1000000 ┆ tb::Split │\n",
       "│ e<tb::Spli ┆           ┆           ┆ ze<tb::Sp ┆   ┆           ┆           ┆         ┆ WindowMin │\n",
       "│ tWindowMin ┆           ┆           ┆ litWindow ┆   ┆           ┆           ┆         ┆ imize     │\n",
       "│ …          ┆           ┆           ┆ Min…      ┆   ┆           ┆           ┆         ┆           │\n",
       "└────────────┴───────────┴───────────┴───────────┴───┴───────────┴───────────┴─────────┴───────────┘"
      ]
     },
     "execution_count": 3,
     "metadata": {},
     "output_type": "execute_result"
    }
   ],
   "source": [
    "with open(\"bench.json\") as f:\n",
    "    data = json.load(f)\n",
    "\n",
    "df_benchmarks = pl.from_dicts(\n",
    "    [\n",
    "        {\n",
    "            **run,\n",
    "            \"n_bases\": int(run[\"name\"].split(\"/\")[1]),\n",
    "            \"function\": re.search(r\"(?<=<)(.*?)(?=>)\", run[\"name\"]).group(),\n",
    "        }\n",
    "        for run in data[\"benchmarks\"]\n",
    "    ]\n",
    ")\n",
    "\n",
    "df_benchmarks"
   ]
  },
  {
   "cell_type": "code",
   "execution_count": 4,
   "metadata": {},
   "outputs": [],
   "source": [
    "x_ticks = df_benchmarks[\"n_bases\"].unique().sort()\n",
    "y_ticks = df_benchmarks[\"real_time\"].unique().sort().to_numpy()"
   ]
  },
  {
   "cell_type": "code",
   "execution_count": 5,
   "metadata": {},
   "outputs": [
    {
     "data": {
      "text/plain": [
       "<matplotlib.legend.Legend at 0x7f0a44898050>"
      ]
     },
     "execution_count": 5,
     "metadata": {},
     "output_type": "execute_result"
    },
    {
     "data": {
      "image/png": "[encoded data removed]",
      "text/plain": [
       "<Figure size 640x480 with 1 Axes>"
      ]
     },
     "metadata": {},
     "output_type": "display_data"
    }
   ],
   "source": [
    "fig = sns.barplot(\n",
    "    df_benchmarks.filter(pl.col(\"function\") != \"tb::NaiveMinimize\"),\n",
    "    x=\"n_bases\",\n",
    "    y=\"cpu_time\",\n",
    "    hue=\"function\",\n",
    ")\n",
    "plt.tight_layout()\n",
    "fig.set_ylabel(\"cpu time (ns)\")\n",
    "fig.set_xlabel(\"base pairs\")\n",
    "fig.legend(loc='center left', bbox_to_anchor=(1, 0.5))\n"
   ]
  },
  {
   "cell_type": "code",
   "execution_count": 6,
   "metadata": {},
   "outputs": [
    {
     "name": "stdout",
     "output_type": "stream",
     "text": [
      "| function                           |   avg ns per bp |\n",
      "|:-----------------------------------|----------------:|\n",
      "| tb::NaiveMinimize                  |       241.653   |\n",
      "| tb::DequeMinimize                  |        24.0097  |\n",
      "| tb::ArgMinMinimize                 |        22.6948  |\n",
      "| tb::SplitWindowMinimize            |        16.6047  |\n",
      "| tb::ArgMinUnrolledMinimize         |        11.4637  |\n",
      "| tb::NtHashArgMinUnrolledMinimize   |        10.8173  |\n",
      "| tb::ArgMinRecoveryMinimize         |        10.4942  |\n",
      "| tb::ArgMinRecoveryUnrolledMinimize |         8.55874 |\n",
      "| tb::NtHashRecoveryUnrolledMinimize |         7.90879 |\n"
     ]
    }
   ],
   "source": [
    "print(\n",
    "    df_benchmarks.group_by(\"function\")\n",
    "    .agg(\n",
    "        (pl.col(\"cpu_time\") / pl.col(\"n_bases\")).first().alias(\"avg ns per bp\"),\n",
    "    )\n",
    "    .sort(\"avg ns per bp\", descending=True)\n",
    "    .to_pandas()\n",
    "    .to_markdown(index=False)\n",
    ")"
   ]
  }
 ],
 "metadata": {
  "kernelspec": {
   "display_name": "venv",
   "language": "python",
   "name": "python3"
  },
  "language_info": {
   "codemirror_mode": {
    "name": "ipython",
    "version": 3
   },
   "file_extension": ".py",
   "mimetype": "text/x-python",
   "name": "python",
   "nbconvert_exporter": "python",
   "pygments_lexer": "ipython3",
   "version": "3.11.2"
  }
 },
 "nbformat": 4,
 "nbformat_minor": 2
}
