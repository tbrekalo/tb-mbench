{
 "cells": [
  {
   "cell_type": "code",
   "execution_count": 1,
   "metadata": {},
   "outputs": [],
   "source": [
    "import json\n",
    "import re\n",
    "\n",
    "import polars as pl\n",
    "import seaborn as sns\n",
    "import matplotlib as plt"
   ]
  },
  {
   "cell_type": "code",
   "execution_count": 2,
   "metadata": {},
   "outputs": [
    {
     "data": {
      "text/plain": [
       "[{'name': 'BM_MinimizeW5K15<tb::NaiveMinimize>/1000000',\n",
       "  'family_index': 0,\n",
       "  'per_family_instance_index': 0,\n",
       "  'run_name': 'BM_MinimizeW5K15<tb::NaiveMinimize>/1000000',\n",
       "  'run_type': 'iteration',\n",
       "  'repetitions': 1,\n",
       "  'repetition_index': 0,\n",
       "  'threads': 1,\n",
       "  'iterations': 8,\n",
       "  'real_time': 91306652.46630087,\n",
       "  'cpu_time': 91305725.5,\n",
       "  'time_unit': 'ns'},\n",
       " {'name': 'BM_MinimizeW5K15<tb::DequeMinimize>/1000000',\n",
       "  'family_index': 1,\n",
       "  'per_family_instance_index': 0,\n",
       "  'run_name': 'BM_MinimizeW5K15<tb::DequeMinimize>/1000000',\n",
       "  'run_type': 'iteration',\n",
       "  'repetitions': 1,\n",
       "  'repetition_index': 0,\n",
       "  'threads': 1,\n",
       "  'iterations': 34,\n",
       "  'real_time': 20466619.294465464,\n",
       "  'cpu_time': 20466128.147058822,\n",
       "  'time_unit': 'ns'},\n",
       " {'name': 'BM_MinimizeW5K15<tb::InplaceMinimize>/1000000',\n",
       "  'family_index': 2,\n",
       "  'per_family_instance_index': 0,\n",
       "  'run_name': 'BM_MinimizeW5K15<tb::InplaceMinimize>/1000000',\n",
       "  'run_type': 'iteration',\n",
       "  'repetitions': 1,\n",
       "  'repetition_index': 0,\n",
       "  'threads': 1,\n",
       "  'iterations': 35,\n",
       "  'real_time': 20147032.663226128,\n",
       "  'cpu_time': 20146970.45714286,\n",
       "  'time_unit': 'ns'},\n",
       " {'name': 'BM_MinimizeW5K15<tb::RingMinimize>/1000000',\n",
       "  'family_index': 3,\n",
       "  'per_family_instance_index': 0,\n",
       "  'run_name': 'BM_MinimizeW5K15<tb::RingMinimize>/1000000',\n",
       "  'run_type': 'iteration',\n",
       "  'repetitions': 1,\n",
       "  'repetition_index': 0,\n",
       "  'threads': 1,\n",
       "  'iterations': 31,\n",
       "  'real_time': 22785746.071848176,\n",
       "  'cpu_time': 22785361.967741936,\n",
       "  'time_unit': 'ns'}]"
      ]
     },
     "execution_count": 2,
     "metadata": {},
     "output_type": "execute_result"
    }
   ],
   "source": [
    "with open(\"bench.json\") as f:\n",
    "    data = json.load(f)[\"benchmarks\"]\n",
    "data"
   ]
  },
  {
   "cell_type": "code",
   "execution_count": 3,
   "metadata": {},
   "outputs": [
    {
     "data": {
      "text/html": [
       "<div><style>\n",
       ".dataframe > thead > tr,\n",
       ".dataframe > tbody > tr {\n",
       "  text-align: right;\n",
       "  white-space: pre-wrap;\n",
       "}\n",
       "</style>\n",
       "<small>shape: (4, 14)</small><table border=\"1\" class=\"dataframe\"><thead><tr><th>name</th><th>family_index</th><th>per_family_instance_index</th><th>run_name</th><th>run_type</th><th>repetitions</th><th>repetition_index</th><th>threads</th><th>iterations</th><th>real_time</th><th>cpu_time</th><th>time_unit</th><th>n_bases</th><th>function</th></tr><tr><td>str</td><td>i64</td><td>i64</td><td>str</td><td>str</td><td>i64</td><td>i64</td><td>i64</td><td>i64</td><td>f64</td><td>f64</td><td>str</td><td>i64</td><td>str</td></tr></thead><tbody><tr><td>&quot;BM_MinimizeW5K15&lt;tb::NaiveMini…</td><td>0</td><td>0</td><td>&quot;BM_MinimizeW5K15&lt;tb::NaiveMini…</td><td>&quot;iteration&quot;</td><td>1</td><td>0</td><td>1</td><td>8</td><td>9.1307e7</td><td>9.1306e7</td><td>&quot;ns&quot;</td><td>1000000</td><td>&quot;tb::NaiveMinimize&quot;</td></tr><tr><td>&quot;BM_MinimizeW5K15&lt;tb::DequeMini…</td><td>1</td><td>0</td><td>&quot;BM_MinimizeW5K15&lt;tb::DequeMini…</td><td>&quot;iteration&quot;</td><td>1</td><td>0</td><td>1</td><td>34</td><td>2.0467e7</td><td>2.0466e7</td><td>&quot;ns&quot;</td><td>1000000</td><td>&quot;tb::DequeMinimize&quot;</td></tr><tr><td>&quot;BM_MinimizeW5K15&lt;tb::InplaceMi…</td><td>2</td><td>0</td><td>&quot;BM_MinimizeW5K15&lt;tb::InplaceMi…</td><td>&quot;iteration&quot;</td><td>1</td><td>0</td><td>1</td><td>35</td><td>2.0147e7</td><td>2.0147e7</td><td>&quot;ns&quot;</td><td>1000000</td><td>&quot;tb::InplaceMinimize&quot;</td></tr><tr><td>&quot;BM_MinimizeW5K15&lt;tb::RingMinim…</td><td>3</td><td>0</td><td>&quot;BM_MinimizeW5K15&lt;tb::RingMinim…</td><td>&quot;iteration&quot;</td><td>1</td><td>0</td><td>1</td><td>31</td><td>2.2786e7</td><td>2.2785e7</td><td>&quot;ns&quot;</td><td>1000000</td><td>&quot;tb::RingMinimize&quot;</td></tr></tbody></table></div>"
      ],
      "text/plain": [
       "shape: (4, 14)\n",
       "┌────────────┬────────────┬───────────┬───────────┬───┬──────────┬───────────┬─────────┬───────────┐\n",
       "│ name       ┆ family_ind ┆ per_famil ┆ run_name  ┆ … ┆ cpu_time ┆ time_unit ┆ n_bases ┆ function  │\n",
       "│ ---        ┆ ex         ┆ y_instanc ┆ ---       ┆   ┆ ---      ┆ ---       ┆ ---     ┆ ---       │\n",
       "│ str        ┆ ---        ┆ e_index   ┆ str       ┆   ┆ f64      ┆ str       ┆ i64     ┆ str       │\n",
       "│            ┆ i64        ┆ ---       ┆           ┆   ┆          ┆           ┆         ┆           │\n",
       "│            ┆            ┆ i64       ┆           ┆   ┆          ┆           ┆         ┆           │\n",
       "╞════════════╪════════════╪═══════════╪═══════════╪═══╪══════════╪═══════════╪═════════╪═══════════╡\n",
       "│ BM_Minimiz ┆ 0          ┆ 0         ┆ BM_Minimi ┆ … ┆ 9.1306e7 ┆ ns        ┆ 1000000 ┆ tb::Naive │\n",
       "│ eW5K15<tb: ┆            ┆           ┆ zeW5K15<t ┆   ┆          ┆           ┆         ┆ Minimize  │\n",
       "│ :NaiveMini ┆            ┆           ┆ b::NaiveM ┆   ┆          ┆           ┆         ┆           │\n",
       "│ …          ┆            ┆           ┆ ini…      ┆   ┆          ┆           ┆         ┆           │\n",
       "│ BM_Minimiz ┆ 1          ┆ 0         ┆ BM_Minimi ┆ … ┆ 2.0466e7 ┆ ns        ┆ 1000000 ┆ tb::Deque │\n",
       "│ eW5K15<tb: ┆            ┆           ┆ zeW5K15<t ┆   ┆          ┆           ┆         ┆ Minimize  │\n",
       "│ :DequeMini ┆            ┆           ┆ b::DequeM ┆   ┆          ┆           ┆         ┆           │\n",
       "│ …          ┆            ┆           ┆ ini…      ┆   ┆          ┆           ┆         ┆           │\n",
       "│ BM_Minimiz ┆ 2          ┆ 0         ┆ BM_Minimi ┆ … ┆ 2.0147e7 ┆ ns        ┆ 1000000 ┆ tb::Inpla │\n",
       "│ eW5K15<tb: ┆            ┆           ┆ zeW5K15<t ┆   ┆          ┆           ┆         ┆ ceMinimiz │\n",
       "│ :InplaceMi ┆            ┆           ┆ b::Inplac ┆   ┆          ┆           ┆         ┆ e         │\n",
       "│ …          ┆            ┆           ┆ eMi…      ┆   ┆          ┆           ┆         ┆           │\n",
       "│ BM_Minimiz ┆ 3          ┆ 0         ┆ BM_Minimi ┆ … ┆ 2.2785e7 ┆ ns        ┆ 1000000 ┆ tb::RingM │\n",
       "│ eW5K15<tb: ┆            ┆           ┆ zeW5K15<t ┆   ┆          ┆           ┆         ┆ inimize   │\n",
       "│ :RingMinim ┆            ┆           ┆ b::RingMi ┆   ┆          ┆           ┆         ┆           │\n",
       "│ …          ┆            ┆           ┆ nim…      ┆   ┆          ┆           ┆         ┆           │\n",
       "└────────────┴────────────┴───────────┴───────────┴───┴──────────┴───────────┴─────────┴───────────┘"
      ]
     },
     "execution_count": 3,
     "metadata": {},
     "output_type": "execute_result"
    }
   ],
   "source": [
    "with open(\"bench.json\") as f:\n",
    "    data = json.load(f)\n",
    "\n",
    "df_benchmarks = pl.from_dicts(\n",
    "    [\n",
    "        {\n",
    "            **run,\n",
    "            \"n_bases\": int(run[\"name\"].split(\"/\")[1]),\n",
    "            \"function\": re.search(r\"(?<=<)(.*?)(?=>)\", run[\"name\"]).group(),\n",
    "        }\n",
    "        for run in data[\"benchmarks\"]\n",
    "    ]\n",
    ")\n",
    "\n",
    "df_benchmarks"
   ]
  },
  {
   "cell_type": "code",
   "execution_count": 4,
   "metadata": {},
   "outputs": [],
   "source": [
    "x_ticks = df_benchmarks[\"n_bases\"].unique().sort()\n",
    "y_ticks = df_benchmarks[\"real_time\"].unique().sort().to_numpy()"
   ]
  },
  {
   "cell_type": "code",
   "execution_count": 5,
   "metadata": {},
   "outputs": [
    {
     "data": {
      "text/plain": [
       "Text(0.5, 0, 'base pairs')"
      ]
     },
     "execution_count": 5,
     "metadata": {},
     "output_type": "execute_result"
    },
    {
     "data": {
      "image/png": "[encoded data removed]",
      "text/plain": [
       "<Figure size 640x480 with 1 Axes>"
      ]
     },
     "metadata": {},
     "output_type": "display_data"
    }
   ],
   "source": [
    "fig = sns.barplot(\n",
    "    df_benchmarks,\n",
    "    x=\"n_bases\",\n",
    "    y=\"cpu_time\",\n",
    "    hue=\"function\",\n",
    ")\n",
    "\n",
    "fig.set_ylabel(\"cpu time (ns)\")\n",
    "fig.set_xlabel(\"base pairs\")"
   ]
  },
  {
   "cell_type": "code",
   "execution_count": 6,
   "metadata": {},
   "outputs": [
    {
     "name": "stdout",
     "output_type": "stream",
     "text": [
      "| function            |   avg ns per bp |\n",
      "|:--------------------|----------------:|\n",
      "| tb::NaiveMinimize   |         91.3057 |\n",
      "| tb::RingMinimize    |         22.7854 |\n",
      "| tb::DequeMinimize   |         20.4661 |\n",
      "| tb::InplaceMinimize |         20.147  |\n"
     ]
    }
   ],
   "source": [
    "print(\n",
    "    df_benchmarks.group_by(\"function\")\n",
    "    .agg(\n",
    "        (pl.col(\"cpu_time\") / pl.col(\"n_bases\")).first().alias(\"avg ns per bp\"),\n",
    "    )\n",
    "    .sort(\"avg ns per bp\", descending=True)\n",
    "    .to_pandas()\n",
    "    .to_markdown(index=False)\n",
    ")"
   ]
  }
 ],
 "metadata": {
  "kernelspec": {
   "display_name": "venv",
   "language": "python",
   "name": "python3"
  },
  "language_info": {
   "codemirror_mode": {
    "name": "ipython",
    "version": 3
   },
   "file_extension": ".py",
   "mimetype": "text/x-python",
   "name": "python",
   "nbconvert_exporter": "python",
   "pygments_lexer": "ipython3",
   "version": "3.11.2"
  }
 },
 "nbformat": 4,
 "nbformat_minor": 2
}
