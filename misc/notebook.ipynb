{
 "cells": [
  {
   "cell_type": "code",
   "execution_count": 1,
   "metadata": {},
   "outputs": [],
   "source": [
    "import json\n",
    "import re\n",
    "\n",
    "import polars as pl\n",
    "import seaborn as sns\n",
    "import matplotlib.pyplot as plt"
   ]
  },
  {
   "cell_type": "code",
   "execution_count": 2,
   "metadata": {},
   "outputs": [
    {
     "data": {
      "text/plain": [
       "[{'name': 'BM_Minimize<tb::NaiveMinimize>/1000000',\n",
       "  'family_index': 0,\n",
       "  'per_family_instance_index': 0,\n",
       "  'run_name': 'BM_Minimize<tb::NaiveMinimize>/1000000',\n",
       "  'run_type': 'iteration',\n",
       "  'repetitions': 1,\n",
       "  'repetition_index': 0,\n",
       "  'threads': 1,\n",
       "  'iterations': 3,\n",
       "  'real_time': 242391085.8730475,\n",
       "  'cpu_time': 242387030.33333334,\n",
       "  'time_unit': 'ns'},\n",
       " {'name': 'BM_Minimize<tb::DequeMinimize>/1000000',\n",
       "  'family_index': 1,\n",
       "  'per_family_instance_index': 0,\n",
       "  'run_name': 'BM_Minimize<tb::DequeMinimize>/1000000',\n",
       "  'run_type': 'iteration',\n",
       "  'repetitions': 1,\n",
       "  'repetition_index': 0,\n",
       "  'threads': 1,\n",
       "  'iterations': 32,\n",
       "  'real_time': 21740584.881627,\n",
       "  'cpu_time': 21740389.75000001,\n",
       "  'time_unit': 'ns'},\n",
       " {'name': 'BM_Minimize<tb::InplaceMinimize>/1000000',\n",
       "  'family_index': 2,\n",
       "  'per_family_instance_index': 0,\n",
       "  'run_name': 'BM_Minimize<tb::InplaceMinimize>/1000000',\n",
       "  'run_type': 'iteration',\n",
       "  'repetitions': 1,\n",
       "  'repetition_index': 0,\n",
       "  'threads': 1,\n",
       "  'iterations': 33,\n",
       "  'real_time': 21296331.249741893,\n",
       "  'cpu_time': 21296120.45454547,\n",
       "  'time_unit': 'ns'},\n",
       " {'name': 'BM_Minimize<tb::RingMinimize>/1000000',\n",
       "  'family_index': 3,\n",
       "  'per_family_instance_index': 0,\n",
       "  'run_name': 'BM_Minimize<tb::RingMinimize>/1000000',\n",
       "  'run_type': 'iteration',\n",
       "  'repetitions': 1,\n",
       "  'repetition_index': 0,\n",
       "  'threads': 1,\n",
       "  'iterations': 26,\n",
       "  'real_time': 26438762.95321836,\n",
       "  'cpu_time': 26438542.11538468,\n",
       "  'time_unit': 'ns'},\n",
       " {'name': 'BM_Minimize<tb::ArgminMinimize>/1000000',\n",
       "  'family_index': 4,\n",
       "  'per_family_instance_index': 0,\n",
       "  'run_name': 'BM_Minimize<tb::ArgminMinimize>/1000000',\n",
       "  'run_type': 'iteration',\n",
       "  'repetitions': 1,\n",
       "  'repetition_index': 0,\n",
       "  'threads': 1,\n",
       "  'iterations': 47,\n",
       "  'real_time': 15022962.799969506,\n",
       "  'cpu_time': 15023084.5319149,\n",
       "  'time_unit': 'ns'},\n",
       " {'name': 'BM_Minimize<tb::ArgminRecoveryMinimize>/1000000',\n",
       "  'family_index': 5,\n",
       "  'per_family_instance_index': 0,\n",
       "  'run_name': 'BM_Minimize<tb::ArgminRecoveryMinimize>/1000000',\n",
       "  'run_type': 'iteration',\n",
       "  'repetitions': 1,\n",
       "  'repetition_index': 0,\n",
       "  'threads': 1,\n",
       "  'iterations': 72,\n",
       "  'real_time': 9766188.24319707,\n",
       "  'cpu_time': 9766426.555555472,\n",
       "  'time_unit': 'ns'},\n",
       " {'name': 'BM_Minimize<tb::ArgminRecoveryEveMinimize>/1000000',\n",
       "  'family_index': 6,\n",
       "  'per_family_instance_index': 0,\n",
       "  'run_name': 'BM_Minimize<tb::ArgminRecoveryEveMinimize>/1000000',\n",
       "  'run_type': 'iteration',\n",
       "  'repetitions': 1,\n",
       "  'repetition_index': 0,\n",
       "  'threads': 1,\n",
       "  'iterations': 53,\n",
       "  'real_time': 13110772.820787048,\n",
       "  'cpu_time': 13111022.358490555,\n",
       "  'time_unit': 'ns'}]"
      ]
     },
     "execution_count": 2,
     "metadata": {},
     "output_type": "execute_result"
    }
   ],
   "source": [
    "with open(\"bench.json\") as f:\n",
    "    data = json.load(f)[\"benchmarks\"]\n",
    "data"
   ]
  },
  {
   "cell_type": "code",
   "execution_count": 3,
   "metadata": {},
   "outputs": [
    {
     "data": {
      "text/html": [
       "<div><style>\n",
       ".dataframe > thead > tr,\n",
       ".dataframe > tbody > tr {\n",
       "  text-align: right;\n",
       "  white-space: pre-wrap;\n",
       "}\n",
       "</style>\n",
       "<small>shape: (7, 14)</small><table border=\"1\" class=\"dataframe\"><thead><tr><th>name</th><th>family_index</th><th>per_family_instance_index</th><th>run_name</th><th>run_type</th><th>repetitions</th><th>repetition_index</th><th>threads</th><th>iterations</th><th>real_time</th><th>cpu_time</th><th>time_unit</th><th>n_bases</th><th>function</th></tr><tr><td>str</td><td>i64</td><td>i64</td><td>str</td><td>str</td><td>i64</td><td>i64</td><td>i64</td><td>i64</td><td>f64</td><td>f64</td><td>str</td><td>i64</td><td>str</td></tr></thead><tbody><tr><td>&quot;BM_Minimize&lt;tb::NaiveMinimize&gt;…</td><td>0</td><td>0</td><td>&quot;BM_Minimize&lt;tb::NaiveMinimize&gt;…</td><td>&quot;iteration&quot;</td><td>1</td><td>0</td><td>1</td><td>3</td><td>2.4239e8</td><td>2.4239e8</td><td>&quot;ns&quot;</td><td>1000000</td><td>&quot;tb::NaiveMinimize&quot;</td></tr><tr><td>&quot;BM_Minimize&lt;tb::DequeMinimize&gt;…</td><td>1</td><td>0</td><td>&quot;BM_Minimize&lt;tb::DequeMinimize&gt;…</td><td>&quot;iteration&quot;</td><td>1</td><td>0</td><td>1</td><td>32</td><td>2.1741e7</td><td>2.1740e7</td><td>&quot;ns&quot;</td><td>1000000</td><td>&quot;tb::DequeMinimize&quot;</td></tr><tr><td>&quot;BM_Minimize&lt;tb::InplaceMinimiz…</td><td>2</td><td>0</td><td>&quot;BM_Minimize&lt;tb::InplaceMinimiz…</td><td>&quot;iteration&quot;</td><td>1</td><td>0</td><td>1</td><td>33</td><td>2.1296e7</td><td>2.1296e7</td><td>&quot;ns&quot;</td><td>1000000</td><td>&quot;tb::InplaceMinimize&quot;</td></tr><tr><td>&quot;BM_Minimize&lt;tb::RingMinimize&gt;/…</td><td>3</td><td>0</td><td>&quot;BM_Minimize&lt;tb::RingMinimize&gt;/…</td><td>&quot;iteration&quot;</td><td>1</td><td>0</td><td>1</td><td>26</td><td>2.6439e7</td><td>2.6439e7</td><td>&quot;ns&quot;</td><td>1000000</td><td>&quot;tb::RingMinimize&quot;</td></tr><tr><td>&quot;BM_Minimize&lt;tb::ArgminMinimize…</td><td>4</td><td>0</td><td>&quot;BM_Minimize&lt;tb::ArgminMinimize…</td><td>&quot;iteration&quot;</td><td>1</td><td>0</td><td>1</td><td>47</td><td>1.5023e7</td><td>1.5023e7</td><td>&quot;ns&quot;</td><td>1000000</td><td>&quot;tb::ArgminMinimize&quot;</td></tr><tr><td>&quot;BM_Minimize&lt;tb::ArgminRecovery…</td><td>5</td><td>0</td><td>&quot;BM_Minimize&lt;tb::ArgminRecovery…</td><td>&quot;iteration&quot;</td><td>1</td><td>0</td><td>1</td><td>72</td><td>9.7662e6</td><td>9.7664e6</td><td>&quot;ns&quot;</td><td>1000000</td><td>&quot;tb::ArgminRecoveryMinimize&quot;</td></tr><tr><td>&quot;BM_Minimize&lt;tb::ArgminRecovery…</td><td>6</td><td>0</td><td>&quot;BM_Minimize&lt;tb::ArgminRecovery…</td><td>&quot;iteration&quot;</td><td>1</td><td>0</td><td>1</td><td>53</td><td>1.3111e7</td><td>1.3111e7</td><td>&quot;ns&quot;</td><td>1000000</td><td>&quot;tb::ArgminRecoveryEveMinimize&quot;</td></tr></tbody></table></div>"
      ],
      "text/plain": [
       "shape: (7, 14)\n",
       "┌────────────┬────────────┬───────────┬───────────┬───┬──────────┬───────────┬─────────┬───────────┐\n",
       "│ name       ┆ family_ind ┆ per_famil ┆ run_name  ┆ … ┆ cpu_time ┆ time_unit ┆ n_bases ┆ function  │\n",
       "│ ---        ┆ ex         ┆ y_instanc ┆ ---       ┆   ┆ ---      ┆ ---       ┆ ---     ┆ ---       │\n",
       "│ str        ┆ ---        ┆ e_index   ┆ str       ┆   ┆ f64      ┆ str       ┆ i64     ┆ str       │\n",
       "│            ┆ i64        ┆ ---       ┆           ┆   ┆          ┆           ┆         ┆           │\n",
       "│            ┆            ┆ i64       ┆           ┆   ┆          ┆           ┆         ┆           │\n",
       "╞════════════╪════════════╪═══════════╪═══════════╪═══╪══════════╪═══════════╪═════════╪═══════════╡\n",
       "│ BM_Minimiz ┆ 0          ┆ 0         ┆ BM_Minimi ┆ … ┆ 2.4239e8 ┆ ns        ┆ 1000000 ┆ tb::Naive │\n",
       "│ e<tb::Naiv ┆            ┆           ┆ ze<tb::Na ┆   ┆          ┆           ┆         ┆ Minimize  │\n",
       "│ eMinimize> ┆            ┆           ┆ iveMinimi ┆   ┆          ┆           ┆         ┆           │\n",
       "│ …          ┆            ┆           ┆ ze>…      ┆   ┆          ┆           ┆         ┆           │\n",
       "│ BM_Minimiz ┆ 1          ┆ 0         ┆ BM_Minimi ┆ … ┆ 2.1740e7 ┆ ns        ┆ 1000000 ┆ tb::Deque │\n",
       "│ e<tb::Dequ ┆            ┆           ┆ ze<tb::De ┆   ┆          ┆           ┆         ┆ Minimize  │\n",
       "│ eMinimize> ┆            ┆           ┆ queMinimi ┆   ┆          ┆           ┆         ┆           │\n",
       "│ …          ┆            ┆           ┆ ze>…      ┆   ┆          ┆           ┆         ┆           │\n",
       "│ BM_Minimiz ┆ 2          ┆ 0         ┆ BM_Minimi ┆ … ┆ 2.1296e7 ┆ ns        ┆ 1000000 ┆ tb::Inpla │\n",
       "│ e<tb::Inpl ┆            ┆           ┆ ze<tb::In ┆   ┆          ┆           ┆         ┆ ceMinimiz │\n",
       "│ aceMinimiz ┆            ┆           ┆ placeMini ┆   ┆          ┆           ┆         ┆ e         │\n",
       "│ …          ┆            ┆           ┆ miz…      ┆   ┆          ┆           ┆         ┆           │\n",
       "│ BM_Minimiz ┆ 3          ┆ 0         ┆ BM_Minimi ┆ … ┆ 2.6439e7 ┆ ns        ┆ 1000000 ┆ tb::RingM │\n",
       "│ e<tb::Ring ┆            ┆           ┆ ze<tb::Ri ┆   ┆          ┆           ┆         ┆ inimize   │\n",
       "│ Minimize>/ ┆            ┆           ┆ ngMinimiz ┆   ┆          ┆           ┆         ┆           │\n",
       "│ …          ┆            ┆           ┆ e>/…      ┆   ┆          ┆           ┆         ┆           │\n",
       "│ BM_Minimiz ┆ 4          ┆ 0         ┆ BM_Minimi ┆ … ┆ 1.5023e7 ┆ ns        ┆ 1000000 ┆ tb::Argmi │\n",
       "│ e<tb::Argm ┆            ┆           ┆ ze<tb::Ar ┆   ┆          ┆           ┆         ┆ nMinimize │\n",
       "│ inMinimize ┆            ┆           ┆ gminMinim ┆   ┆          ┆           ┆         ┆           │\n",
       "│ …          ┆            ┆           ┆ ize…      ┆   ┆          ┆           ┆         ┆           │\n",
       "│ BM_Minimiz ┆ 5          ┆ 0         ┆ BM_Minimi ┆ … ┆ 9.7664e6 ┆ ns        ┆ 1000000 ┆ tb::Argmi │\n",
       "│ e<tb::Argm ┆            ┆           ┆ ze<tb::Ar ┆   ┆          ┆           ┆         ┆ nRecovery │\n",
       "│ inRecovery ┆            ┆           ┆ gminRecov ┆   ┆          ┆           ┆         ┆ Minimize  │\n",
       "│ …          ┆            ┆           ┆ ery…      ┆   ┆          ┆           ┆         ┆           │\n",
       "│ BM_Minimiz ┆ 6          ┆ 0         ┆ BM_Minimi ┆ … ┆ 1.3111e7 ┆ ns        ┆ 1000000 ┆ tb::Argmi │\n",
       "│ e<tb::Argm ┆            ┆           ┆ ze<tb::Ar ┆   ┆          ┆           ┆         ┆ nRecovery │\n",
       "│ inRecovery ┆            ┆           ┆ gminRecov ┆   ┆          ┆           ┆         ┆ EveMinimi │\n",
       "│ …          ┆            ┆           ┆ ery…      ┆   ┆          ┆           ┆         ┆ ze        │\n",
       "└────────────┴────────────┴───────────┴───────────┴───┴──────────┴───────────┴─────────┴───────────┘"
      ]
     },
     "execution_count": 3,
     "metadata": {},
     "output_type": "execute_result"
    }
   ],
   "source": [
    "with open(\"bench.json\") as f:\n",
    "    data = json.load(f)\n",
    "\n",
    "df_benchmarks = pl.from_dicts(\n",
    "    [\n",
    "        {\n",
    "            **run,\n",
    "            \"n_bases\": int(run[\"name\"].split(\"/\")[1]),\n",
    "            \"function\": re.search(r\"(?<=<)(.*?)(?=>)\", run[\"name\"]).group(),\n",
    "        }\n",
    "        for run in data[\"benchmarks\"]\n",
    "    ]\n",
    ")\n",
    "\n",
    "df_benchmarks"
   ]
  },
  {
   "cell_type": "code",
   "execution_count": 4,
   "metadata": {},
   "outputs": [],
   "source": [
    "x_ticks = df_benchmarks[\"n_bases\"].unique().sort()\n",
    "y_ticks = df_benchmarks[\"real_time\"].unique().sort().to_numpy()"
   ]
  },
  {
   "cell_type": "code",
   "execution_count": 5,
   "metadata": {},
   "outputs": [
    {
     "data": {
      "text/plain": [
       "Text(0.5, 23.52222222222222, 'base pairs')"
      ]
     },
     "execution_count": 5,
     "metadata": {},
     "output_type": "execute_result"
    },
    {
     "data": {
      "image/png": "[encoded data removed]",
      "text/plain": [
       "<Figure size 640x480 with 1 Axes>"
      ]
     },
     "metadata": {},
     "output_type": "display_data"
    }
   ],
   "source": [
    "fig = sns.barplot(\n",
    "    df_benchmarks.filter(pl.col(\"function\") != \"tb::NaiveMinimize\"),\n",
    "    x=\"n_bases\",\n",
    "    y=\"cpu_time\",\n",
    "    hue=\"function\",\n",
    ")\n",
    "plt.tight_layout()\n",
    "fig.set_ylabel(\"cpu time (ns)\")\n",
    "fig.set_xlabel(\"base pairs\")"
   ]
  },
  {
   "cell_type": "code",
   "execution_count": 6,
   "metadata": {},
   "outputs": [
    {
     "name": "stdout",
     "output_type": "stream",
     "text": [
      "| function                      |   avg ns per bp |\n",
      "|:------------------------------|----------------:|\n",
      "| tb::NaiveMinimize             |       242.387   |\n",
      "| tb::RingMinimize              |        26.4385  |\n",
      "| tb::DequeMinimize             |        21.7404  |\n",
      "| tb::InplaceMinimize           |        21.2961  |\n",
      "| tb::ArgminMinimize            |        15.0231  |\n",
      "| tb::ArgminRecoveryEveMinimize |        13.111   |\n",
      "| tb::ArgminRecoveryMinimize    |         9.76643 |\n"
     ]
    }
   ],
   "source": [
    "print(\n",
    "    df_benchmarks.group_by(\"function\")\n",
    "    .agg(\n",
    "        (pl.col(\"cpu_time\") / pl.col(\"n_bases\")).first().alias(\"avg ns per bp\"),\n",
    "    )\n",
    "    .sort(\"avg ns per bp\", descending=True)\n",
    "    .to_pandas()\n",
    "    .to_markdown(index=False)\n",
    ")"
   ]
  }
 ],
 "metadata": {
  "kernelspec": {
   "display_name": "venv",
   "language": "python",
   "name": "python3"
  },
  "language_info": {
   "codemirror_mode": {
    "name": "ipython",
    "version": 3
   },
   "file_extension": ".py",
   "mimetype": "text/x-python",
   "name": "python",
   "nbconvert_exporter": "python",
   "pygments_lexer": "ipython3",
   "version": "3.11.2"
  }
 },
 "nbformat": 4,
 "nbformat_minor": 2
}
