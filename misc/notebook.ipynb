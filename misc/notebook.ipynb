{
 "cells": [
  {
   "cell_type": "code",
   "execution_count": 1,
   "metadata": {},
   "outputs": [],
   "source": [
    "import json\n",
    "import re\n",
    "\n",
    "import polars as pl\n",
    "import seaborn as sns\n",
    "import matplotlib.pyplot as plt"
   ]
  },
  {
   "cell_type": "code",
   "execution_count": 2,
   "metadata": {},
   "outputs": [
    {
     "data": {
      "text/plain": [
       "[{'name': 'BM_Minimize<tb::NaiveMinimize>/1000000',\n",
       "  'family_index': 0,\n",
       "  'per_family_instance_index': 0,\n",
       "  'run_name': 'BM_Minimize<tb::NaiveMinimize>/1000000',\n",
       "  'run_type': 'iteration',\n",
       "  'repetitions': 1,\n",
       "  'repetition_index': 0,\n",
       "  'threads': 1,\n",
       "  'iterations': 3,\n",
       "  'real_time': 242506519.42566037,\n",
       "  'cpu_time': 242505733.3333334,\n",
       "  'time_unit': 'ns'},\n",
       " {'name': 'BM_Minimize<tb::DequeMinimize>/1000000',\n",
       "  'family_index': 1,\n",
       "  'per_family_instance_index': 0,\n",
       "  'run_name': 'BM_Minimize<tb::DequeMinimize>/1000000',\n",
       "  'run_type': 'iteration',\n",
       "  'repetitions': 1,\n",
       "  'repetition_index': 0,\n",
       "  'threads': 1,\n",
       "  'iterations': 32,\n",
       "  'real_time': 21829118.210007437,\n",
       "  'cpu_time': 21828632.593749993,\n",
       "  'time_unit': 'ns'},\n",
       " {'name': 'BM_Minimize<tb::InplaceMinimize>/1000000',\n",
       "  'family_index': 2,\n",
       "  'per_family_instance_index': 0,\n",
       "  'run_name': 'BM_Minimize<tb::InplaceMinimize>/1000000',\n",
       "  'run_type': 'iteration',\n",
       "  'repetitions': 1,\n",
       "  'repetition_index': 0,\n",
       "  'threads': 1,\n",
       "  'iterations': 33,\n",
       "  'real_time': 21237672.504150506,\n",
       "  'cpu_time': 21237439.09090914,\n",
       "  'time_unit': 'ns'},\n",
       " {'name': 'BM_Minimize<tb::RingMinimize>/1000000',\n",
       "  'family_index': 3,\n",
       "  'per_family_instance_index': 0,\n",
       "  'run_name': 'BM_Minimize<tb::RingMinimize>/1000000',\n",
       "  'run_type': 'iteration',\n",
       "  'repetitions': 1,\n",
       "  'repetition_index': 0,\n",
       "  'threads': 1,\n",
       "  'iterations': 27,\n",
       "  'real_time': 26216279.232391603,\n",
       "  'cpu_time': 26216136.407407433,\n",
       "  'time_unit': 'ns'},\n",
       " {'name': 'BM_Minimize<tb::ArgMinMinimize>/1000000',\n",
       "  'family_index': 4,\n",
       "  'per_family_instance_index': 0,\n",
       "  'run_name': 'BM_Minimize<tb::ArgMinMinimize>/1000000',\n",
       "  'run_type': 'iteration',\n",
       "  'repetitions': 1,\n",
       "  'repetition_index': 0,\n",
       "  'threads': 1,\n",
       "  'iterations': 44,\n",
       "  'real_time': 15825025.134042583,\n",
       "  'cpu_time': 15824986.340909028,\n",
       "  'time_unit': 'ns'},\n",
       " {'name': 'BM_Minimize<tb::NtHashArgMinMinimize>/1000000',\n",
       "  'family_index': 5,\n",
       "  'per_family_instance_index': 0,\n",
       "  'run_name': 'BM_Minimize<tb::NtHashArgMinMinimize>/1000000',\n",
       "  'run_type': 'iteration',\n",
       "  'repetitions': 1,\n",
       "  'repetition_index': 0,\n",
       "  'threads': 1,\n",
       "  'iterations': 43,\n",
       "  'real_time': 16320097.173542477,\n",
       "  'cpu_time': 16319774.232558198,\n",
       "  'time_unit': 'ns'},\n",
       " {'name': 'BM_Minimize<tb::ArgMinRecoveryMinimize>/1000000',\n",
       "  'family_index': 6,\n",
       "  'per_family_instance_index': 0,\n",
       "  'run_name': 'BM_Minimize<tb::ArgMinRecoveryMinimize>/1000000',\n",
       "  'run_type': 'iteration',\n",
       "  'repetitions': 1,\n",
       "  'repetition_index': 0,\n",
       "  'threads': 1,\n",
       "  'iterations': 71,\n",
       "  'real_time': 9879041.843536034,\n",
       "  'cpu_time': 9879231.859154912,\n",
       "  'time_unit': 'ns'},\n",
       " {'name': 'BM_Minimize<tb::ArgMinRecoveryEveMinimize>/1000000',\n",
       "  'family_index': 7,\n",
       "  'per_family_instance_index': 0,\n",
       "  'run_name': 'BM_Minimize<tb::ArgMinRecoveryEveMinimize>/1000000',\n",
       "  'run_type': 'iteration',\n",
       "  'repetitions': 1,\n",
       "  'repetition_index': 0,\n",
       "  'threads': 1,\n",
       "  'iterations': 54,\n",
       "  'real_time': 12874114.008068487,\n",
       "  'cpu_time': 12874264.574073978,\n",
       "  'time_unit': 'ns'},\n",
       " {'name': 'BM_Minimize<tb::NtHashArgMinRecoveryMinimize>/1000000',\n",
       "  'family_index': 8,\n",
       "  'per_family_instance_index': 0,\n",
       "  'run_name': 'BM_Minimize<tb::NtHashArgMinRecoveryMinimize>/1000000',\n",
       "  'run_type': 'iteration',\n",
       "  'repetitions': 1,\n",
       "  'repetition_index': 0,\n",
       "  'threads': 1,\n",
       "  'iterations': 67,\n",
       "  'real_time': 10320621.3619282,\n",
       "  'cpu_time': 10320642.358208973,\n",
       "  'time_unit': 'ns'}]"
      ]
     },
     "execution_count": 2,
     "metadata": {},
     "output_type": "execute_result"
    }
   ],
   "source": [
    "with open(\"bench.json\") as f:\n",
    "    data = json.load(f)[\"benchmarks\"]\n",
    "data"
   ]
  },
  {
   "cell_type": "code",
   "execution_count": 3,
   "metadata": {},
   "outputs": [
    {
     "data": {
      "text/html": [
       "<div><style>\n",
       ".dataframe > thead > tr,\n",
       ".dataframe > tbody > tr {\n",
       "  text-align: right;\n",
       "  white-space: pre-wrap;\n",
       "}\n",
       "</style>\n",
       "<small>shape: (9, 14)</small><table border=\"1\" class=\"dataframe\"><thead><tr><th>name</th><th>family_index</th><th>per_family_instance_index</th><th>run_name</th><th>run_type</th><th>repetitions</th><th>repetition_index</th><th>threads</th><th>iterations</th><th>real_time</th><th>cpu_time</th><th>time_unit</th><th>n_bases</th><th>function</th></tr><tr><td>str</td><td>i64</td><td>i64</td><td>str</td><td>str</td><td>i64</td><td>i64</td><td>i64</td><td>i64</td><td>f64</td><td>f64</td><td>str</td><td>i64</td><td>str</td></tr></thead><tbody><tr><td>&quot;BM_Minimize&lt;tb::NaiveMinimize&gt;…</td><td>0</td><td>0</td><td>&quot;BM_Minimize&lt;tb::NaiveMinimize&gt;…</td><td>&quot;iteration&quot;</td><td>1</td><td>0</td><td>1</td><td>3</td><td>2.4251e8</td><td>2.4251e8</td><td>&quot;ns&quot;</td><td>1000000</td><td>&quot;tb::NaiveMinimize&quot;</td></tr><tr><td>&quot;BM_Minimize&lt;tb::DequeMinimize&gt;…</td><td>1</td><td>0</td><td>&quot;BM_Minimize&lt;tb::DequeMinimize&gt;…</td><td>&quot;iteration&quot;</td><td>1</td><td>0</td><td>1</td><td>32</td><td>2.1829e7</td><td>2.1829e7</td><td>&quot;ns&quot;</td><td>1000000</td><td>&quot;tb::DequeMinimize&quot;</td></tr><tr><td>&quot;BM_Minimize&lt;tb::InplaceMinimiz…</td><td>2</td><td>0</td><td>&quot;BM_Minimize&lt;tb::InplaceMinimiz…</td><td>&quot;iteration&quot;</td><td>1</td><td>0</td><td>1</td><td>33</td><td>2.1238e7</td><td>2.1237e7</td><td>&quot;ns&quot;</td><td>1000000</td><td>&quot;tb::InplaceMinimize&quot;</td></tr><tr><td>&quot;BM_Minimize&lt;tb::RingMinimize&gt;/…</td><td>3</td><td>0</td><td>&quot;BM_Minimize&lt;tb::RingMinimize&gt;/…</td><td>&quot;iteration&quot;</td><td>1</td><td>0</td><td>1</td><td>27</td><td>2.6216e7</td><td>2.6216e7</td><td>&quot;ns&quot;</td><td>1000000</td><td>&quot;tb::RingMinimize&quot;</td></tr><tr><td>&quot;BM_Minimize&lt;tb::ArgMinMinimize…</td><td>4</td><td>0</td><td>&quot;BM_Minimize&lt;tb::ArgMinMinimize…</td><td>&quot;iteration&quot;</td><td>1</td><td>0</td><td>1</td><td>44</td><td>1.5825e7</td><td>1.5825e7</td><td>&quot;ns&quot;</td><td>1000000</td><td>&quot;tb::ArgMinMinimize&quot;</td></tr><tr><td>&quot;BM_Minimize&lt;tb::NtHashArgMinMi…</td><td>5</td><td>0</td><td>&quot;BM_Minimize&lt;tb::NtHashArgMinMi…</td><td>&quot;iteration&quot;</td><td>1</td><td>0</td><td>1</td><td>43</td><td>1.6320e7</td><td>1.6320e7</td><td>&quot;ns&quot;</td><td>1000000</td><td>&quot;tb::NtHashArgMinMinimize&quot;</td></tr><tr><td>&quot;BM_Minimize&lt;tb::ArgMinRecovery…</td><td>6</td><td>0</td><td>&quot;BM_Minimize&lt;tb::ArgMinRecovery…</td><td>&quot;iteration&quot;</td><td>1</td><td>0</td><td>1</td><td>71</td><td>9.8790e6</td><td>9.8792e6</td><td>&quot;ns&quot;</td><td>1000000</td><td>&quot;tb::ArgMinRecoveryMinimize&quot;</td></tr><tr><td>&quot;BM_Minimize&lt;tb::ArgMinRecovery…</td><td>7</td><td>0</td><td>&quot;BM_Minimize&lt;tb::ArgMinRecovery…</td><td>&quot;iteration&quot;</td><td>1</td><td>0</td><td>1</td><td>54</td><td>1.2874e7</td><td>1.2874e7</td><td>&quot;ns&quot;</td><td>1000000</td><td>&quot;tb::ArgMinRecoveryEveMinimize&quot;</td></tr><tr><td>&quot;BM_Minimize&lt;tb::NtHashArgMinRe…</td><td>8</td><td>0</td><td>&quot;BM_Minimize&lt;tb::NtHashArgMinRe…</td><td>&quot;iteration&quot;</td><td>1</td><td>0</td><td>1</td><td>67</td><td>1.0321e7</td><td>1.0321e7</td><td>&quot;ns&quot;</td><td>1000000</td><td>&quot;tb::NtHashArgMinRecoveryMinimi…</td></tr></tbody></table></div>"
      ],
      "text/plain": [
       "shape: (9, 14)\n",
       "┌────────────┬────────────┬───────────┬───────────┬───┬──────────┬───────────┬─────────┬───────────┐\n",
       "│ name       ┆ family_ind ┆ per_famil ┆ run_name  ┆ … ┆ cpu_time ┆ time_unit ┆ n_bases ┆ function  │\n",
       "│ ---        ┆ ex         ┆ y_instanc ┆ ---       ┆   ┆ ---      ┆ ---       ┆ ---     ┆ ---       │\n",
       "│ str        ┆ ---        ┆ e_index   ┆ str       ┆   ┆ f64      ┆ str       ┆ i64     ┆ str       │\n",
       "│            ┆ i64        ┆ ---       ┆           ┆   ┆          ┆           ┆         ┆           │\n",
       "│            ┆            ┆ i64       ┆           ┆   ┆          ┆           ┆         ┆           │\n",
       "╞════════════╪════════════╪═══════════╪═══════════╪═══╪══════════╪═══════════╪═════════╪═══════════╡\n",
       "│ BM_Minimiz ┆ 0          ┆ 0         ┆ BM_Minimi ┆ … ┆ 2.4251e8 ┆ ns        ┆ 1000000 ┆ tb::Naive │\n",
       "│ e<tb::Naiv ┆            ┆           ┆ ze<tb::Na ┆   ┆          ┆           ┆         ┆ Minimize  │\n",
       "│ eMinimize> ┆            ┆           ┆ iveMinimi ┆   ┆          ┆           ┆         ┆           │\n",
       "│ …          ┆            ┆           ┆ ze>…      ┆   ┆          ┆           ┆         ┆           │\n",
       "│ BM_Minimiz ┆ 1          ┆ 0         ┆ BM_Minimi ┆ … ┆ 2.1829e7 ┆ ns        ┆ 1000000 ┆ tb::Deque │\n",
       "│ e<tb::Dequ ┆            ┆           ┆ ze<tb::De ┆   ┆          ┆           ┆         ┆ Minimize  │\n",
       "│ eMinimize> ┆            ┆           ┆ queMinimi ┆   ┆          ┆           ┆         ┆           │\n",
       "│ …          ┆            ┆           ┆ ze>…      ┆   ┆          ┆           ┆         ┆           │\n",
       "│ BM_Minimiz ┆ 2          ┆ 0         ┆ BM_Minimi ┆ … ┆ 2.1237e7 ┆ ns        ┆ 1000000 ┆ tb::Inpla │\n",
       "│ e<tb::Inpl ┆            ┆           ┆ ze<tb::In ┆   ┆          ┆           ┆         ┆ ceMinimiz │\n",
       "│ aceMinimiz ┆            ┆           ┆ placeMini ┆   ┆          ┆           ┆         ┆ e         │\n",
       "│ …          ┆            ┆           ┆ miz…      ┆   ┆          ┆           ┆         ┆           │\n",
       "│ BM_Minimiz ┆ 3          ┆ 0         ┆ BM_Minimi ┆ … ┆ 2.6216e7 ┆ ns        ┆ 1000000 ┆ tb::RingM │\n",
       "│ e<tb::Ring ┆            ┆           ┆ ze<tb::Ri ┆   ┆          ┆           ┆         ┆ inimize   │\n",
       "│ Minimize>/ ┆            ┆           ┆ ngMinimiz ┆   ┆          ┆           ┆         ┆           │\n",
       "│ …          ┆            ┆           ┆ e>/…      ┆   ┆          ┆           ┆         ┆           │\n",
       "│ BM_Minimiz ┆ 4          ┆ 0         ┆ BM_Minimi ┆ … ┆ 1.5825e7 ┆ ns        ┆ 1000000 ┆ tb::ArgMi │\n",
       "│ e<tb::ArgM ┆            ┆           ┆ ze<tb::Ar ┆   ┆          ┆           ┆         ┆ nMinimize │\n",
       "│ inMinimize ┆            ┆           ┆ gMinMinim ┆   ┆          ┆           ┆         ┆           │\n",
       "│ …          ┆            ┆           ┆ ize…      ┆   ┆          ┆           ┆         ┆           │\n",
       "│ BM_Minimiz ┆ 5          ┆ 0         ┆ BM_Minimi ┆ … ┆ 1.6320e7 ┆ ns        ┆ 1000000 ┆ tb::NtHas │\n",
       "│ e<tb::NtHa ┆            ┆           ┆ ze<tb::Nt ┆   ┆          ┆           ┆         ┆ hArgMinMi │\n",
       "│ shArgMinMi ┆            ┆           ┆ HashArgMi ┆   ┆          ┆           ┆         ┆ nimize    │\n",
       "│ …          ┆            ┆           ┆ nMi…      ┆   ┆          ┆           ┆         ┆           │\n",
       "│ BM_Minimiz ┆ 6          ┆ 0         ┆ BM_Minimi ┆ … ┆ 9.8792e6 ┆ ns        ┆ 1000000 ┆ tb::ArgMi │\n",
       "│ e<tb::ArgM ┆            ┆           ┆ ze<tb::Ar ┆   ┆          ┆           ┆         ┆ nRecovery │\n",
       "│ inRecovery ┆            ┆           ┆ gMinRecov ┆   ┆          ┆           ┆         ┆ Minimize  │\n",
       "│ …          ┆            ┆           ┆ ery…      ┆   ┆          ┆           ┆         ┆           │\n",
       "│ BM_Minimiz ┆ 7          ┆ 0         ┆ BM_Minimi ┆ … ┆ 1.2874e7 ┆ ns        ┆ 1000000 ┆ tb::ArgMi │\n",
       "│ e<tb::ArgM ┆            ┆           ┆ ze<tb::Ar ┆   ┆          ┆           ┆         ┆ nRecovery │\n",
       "│ inRecovery ┆            ┆           ┆ gMinRecov ┆   ┆          ┆           ┆         ┆ EveMinimi │\n",
       "│ …          ┆            ┆           ┆ ery…      ┆   ┆          ┆           ┆         ┆ ze        │\n",
       "│ BM_Minimiz ┆ 8          ┆ 0         ┆ BM_Minimi ┆ … ┆ 1.0321e7 ┆ ns        ┆ 1000000 ┆ tb::NtHas │\n",
       "│ e<tb::NtHa ┆            ┆           ┆ ze<tb::Nt ┆   ┆          ┆           ┆         ┆ hArgMinRe │\n",
       "│ shArgMinRe ┆            ┆           ┆ HashArgMi ┆   ┆          ┆           ┆         ┆ coveryMin │\n",
       "│ …          ┆            ┆           ┆ nRe…      ┆   ┆          ┆           ┆         ┆ imi…      │\n",
       "└────────────┴────────────┴───────────┴───────────┴───┴──────────┴───────────┴─────────┴───────────┘"
      ]
     },
     "execution_count": 3,
     "metadata": {},
     "output_type": "execute_result"
    }
   ],
   "source": [
    "with open(\"bench.json\") as f:\n",
    "    data = json.load(f)\n",
    "\n",
    "df_benchmarks = pl.from_dicts(\n",
    "    [\n",
    "        {\n",
    "            **run,\n",
    "            \"n_bases\": int(run[\"name\"].split(\"/\")[1]),\n",
    "            \"function\": re.search(r\"(?<=<)(.*?)(?=>)\", run[\"name\"]).group(),\n",
    "        }\n",
    "        for run in data[\"benchmarks\"]\n",
    "    ]\n",
    ")\n",
    "\n",
    "df_benchmarks"
   ]
  },
  {
   "cell_type": "code",
   "execution_count": 4,
   "metadata": {},
   "outputs": [],
   "source": [
    "x_ticks = df_benchmarks[\"n_bases\"].unique().sort()\n",
    "y_ticks = df_benchmarks[\"real_time\"].unique().sort().to_numpy()"
   ]
  },
  {
   "cell_type": "code",
   "execution_count": 5,
   "metadata": {},
   "outputs": [
    {
     "data": {
      "text/plain": [
       "<matplotlib.legend.Legend at 0x7ff25feaea10>"
      ]
     },
     "execution_count": 5,
     "metadata": {},
     "output_type": "execute_result"
    },
    {
     "data": {
      "image/png": "[encoded data removed]",
      "text/plain": [
       "<Figure size 640x480 with 1 Axes>"
      ]
     },
     "metadata": {},
     "output_type": "display_data"
    }
   ],
   "source": [
    "fig = sns.barplot(\n",
    "    df_benchmarks.filter(pl.col(\"function\") != \"tb::NaiveMinimize\"),\n",
    "    x=\"n_bases\",\n",
    "    y=\"cpu_time\",\n",
    "    hue=\"function\",\n",
    ")\n",
    "plt.tight_layout()\n",
    "fig.set_ylabel(\"cpu time (ns)\")\n",
    "fig.set_xlabel(\"base pairs\")\n",
    "fig.legend(loc='center left', bbox_to_anchor=(1, 0.5))\n"
   ]
  },
  {
   "cell_type": "code",
   "execution_count": 6,
   "metadata": {},
   "outputs": [
    {
     "name": "stdout",
     "output_type": "stream",
     "text": [
      "| function                         |   avg ns per bp |\n",
      "|:---------------------------------|----------------:|\n",
      "| tb::NaiveMinimize                |       242.506   |\n",
      "| tb::RingMinimize                 |        26.2161  |\n",
      "| tb::DequeMinimize                |        21.8286  |\n",
      "| tb::InplaceMinimize              |        21.2374  |\n",
      "| tb::NtHashArgMinMinimize         |        16.3198  |\n",
      "| tb::ArgMinMinimize               |        15.825   |\n",
      "| tb::ArgMinRecoveryEveMinimize    |        12.8743  |\n",
      "| tb::NtHashArgMinRecoveryMinimize |        10.3206  |\n",
      "| tb::ArgMinRecoveryMinimize       |         9.87923 |\n"
     ]
    }
   ],
   "source": [
    "print(\n",
    "    df_benchmarks.group_by(\"function\")\n",
    "    .agg(\n",
    "        (pl.col(\"cpu_time\") / pl.col(\"n_bases\")).first().alias(\"avg ns per bp\"),\n",
    "    )\n",
    "    .sort(\"avg ns per bp\", descending=True)\n",
    "    .to_pandas()\n",
    "    .to_markdown(index=False)\n",
    ")"
   ]
  }
 ],
 "metadata": {
  "kernelspec": {
   "display_name": "venv",
   "language": "python",
   "name": "python3"
  },
  "language_info": {
   "codemirror_mode": {
    "name": "ipython",
    "version": 3
   },
   "file_extension": ".py",
   "mimetype": "text/x-python",
   "name": "python",
   "nbconvert_exporter": "python",
   "pygments_lexer": "ipython3",
   "version": "3.11.2"
  }
 },
 "nbformat": 4,
 "nbformat_minor": 2
}
